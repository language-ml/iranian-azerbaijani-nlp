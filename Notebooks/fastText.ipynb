{
  "nbformat": 4,
  "nbformat_minor": 0,
  "metadata": {
    "colab": {
      "provenance": [],
      "include_colab_link": true
    },
    "kernelspec": {
      "name": "python3",
      "display_name": "Python 3"
    },
    "language_info": {
      "name": "python"
    }
  },
  "cells": [
    {
      "cell_type": "markdown",
      "metadata": {
        "id": "view-in-github",
        "colab_type": "text"
      },
      "source": [
        "<a href=\"https://colab.research.google.com/github/marzinouri/AzeriPipeline/blob/main/Notebooks/fastText.ipynb\" target=\"_parent\"><img src=\"https://colab.research.google.com/assets/colab-badge.svg\" alt=\"Open In Colab\"/></a>"
      ]
    },
    {
      "cell_type": "markdown",
      "source": [
        "# fastText Installation\n"
      ],
      "metadata": {
        "id": "CDC2xF07-6jM"
      }
    },
    {
      "cell_type": "code",
      "source": [
        "!wget https://github.com/facebookresearch/fastText/archive/v0.9.2.zip"
      ],
      "metadata": {
        "colab": {
          "base_uri": "https://localhost:8080/"
        },
        "id": "YosO3TMvX3FF",
        "outputId": "9fdb22c3-ae74-4e57-ef0b-c899d7b0ce3f"
      },
      "execution_count": null,
      "outputs": [
        {
          "output_type": "stream",
          "name": "stdout",
          "text": [
            "--2023-01-05 13:36:50--  https://github.com/facebookresearch/fastText/archive/v0.9.2.zip\n",
            "Resolving github.com (github.com)... 140.82.112.4\n",
            "Connecting to github.com (github.com)|140.82.112.4|:443... connected.\n",
            "HTTP request sent, awaiting response... 302 Found\n",
            "Location: https://codeload.github.com/facebookresearch/fastText/zip/refs/tags/v0.9.2 [following]\n",
            "--2023-01-05 13:36:50--  https://codeload.github.com/facebookresearch/fastText/zip/refs/tags/v0.9.2\n",
            "Resolving codeload.github.com (codeload.github.com)... 140.82.114.9\n",
            "Connecting to codeload.github.com (codeload.github.com)|140.82.114.9|:443... connected.\n",
            "HTTP request sent, awaiting response... 200 OK\n",
            "Length: unspecified [application/zip]\n",
            "Saving to: ‘v0.9.2.zip’\n",
            "\n",
            "v0.9.2.zip              [   <=>              ]   4.17M  8.43MB/s    in 0.5s    \n",
            "\n",
            "2023-01-05 13:36:51 (8.43 MB/s) - ‘v0.9.2.zip’ saved [4369852]\n",
            "\n"
          ]
        }
      ]
    },
    {
      "cell_type": "code",
      "source": [
        "!unzip v0.9.2.zip"
      ],
      "metadata": {
        "id": "repmBX-zaPXw"
      },
      "execution_count": null,
      "outputs": []
    },
    {
      "cell_type": "code",
      "source": [
        "%cd fastText-0.9.2"
      ],
      "metadata": {
        "colab": {
          "base_uri": "https://localhost:8080/"
        },
        "id": "WZG2sdq4ajMA",
        "outputId": "9fa6210a-94a7-40ee-f06d-4343d697cb74"
      },
      "execution_count": null,
      "outputs": [
        {
          "output_type": "stream",
          "name": "stdout",
          "text": [
            "/content/fastText-0.9.2\n"
          ]
        }
      ]
    },
    {
      "cell_type": "code",
      "source": [
        "!make"
      ],
      "metadata": {
        "id": "IrqQgzasak4r"
      },
      "execution_count": null,
      "outputs": []
    },
    {
      "cell_type": "code",
      "source": [
        "!pip install ."
      ],
      "metadata": {
        "id": "NlXvUofWc2NV"
      },
      "execution_count": null,
      "outputs": []
    },
    {
      "cell_type": "markdown",
      "source": [
        "# Training From Scratch"
      ],
      "metadata": {
        "id": "dtBUWNAx_L-9"
      }
    },
    {
      "cell_type": "code",
      "execution_count": null,
      "metadata": {
        "id": "t0SBT9cyXh4C"
      },
      "outputs": [],
      "source": [
        "import fasttext\n",
        "import numpy as np\n",
        "from numpy.linalg import norm"
      ]
    },
    {
      "cell_type": "code",
      "source": [
        "def get_similarity(word_A, word_B, model):\n",
        "    A = model.get_word_vector(word_A)\n",
        "    B = model.get_word_vector(word_B)\n",
        "    cosine = np.dot(A,B)/(norm(A)*norm(B))\n",
        "    return cosine"
      ],
      "metadata": {
        "id": "azoYpuSD_XyT"
      },
      "execution_count": null,
      "outputs": []
    },
    {
      "cell_type": "code",
      "source": [
        "main_file = '/content/drive/MyDrive/Azari/Preprocessed_Datasets/Monolingual/ALL_v4.txt'\n",
        "model_main = fasttext.train_unsupervised(main_file)"
      ],
      "metadata": {
        "id": "x_C1Uc9RJte0"
      },
      "execution_count": null,
      "outputs": []
    },
    {
      "cell_type": "code",
      "source": [
        "model_main.save_model(\"/content/drive/MyDrive/Azari/Models/Fasttext/v4_model_300.bin\")"
      ],
      "metadata": {
        "id": "HU4nfCcQLsBI"
      },
      "execution_count": null,
      "outputs": []
    },
    {
      "cell_type": "code",
      "source": [
        "A = \"ایران\"\n",
        "B = \"ایرانلی\"\n",
        "C = \"فرانسه\"\n",
        "model_main.get_analogies(A, B, C)"
      ],
      "metadata": {
        "colab": {
          "base_uri": "https://localhost:8080/"
        },
        "id": "6_buk_X9OIgK",
        "outputId": "671bc036-de7f-44c9-bb3b-0a45e4669013"
      },
      "execution_count": null,
      "outputs": [
        {
          "output_type": "execute_result",
          "data": {
            "text/plain": [
              "[(0.769207239151001, 'فرانسيز'),\n",
              " (0.7521471977233887, 'فرانس'),\n",
              " (0.7434549927711487, 'فرانسه\\u200cنین'),\n",
              " (0.7313781976699829, 'سوئد'),\n",
              " (0.7282928228378296, 'فرانسادان'),\n",
              " (0.726747989654541, 'نیجریه'),\n",
              " (0.72464919090271, 'فرانسیس'),\n",
              " (0.7120851874351501, 'فرانسوی'),\n",
              " (0.7077399492263794, 'فران'),\n",
              " (0.7070884704589844, 'اروقوئه')]"
            ]
          },
          "metadata": {},
          "execution_count": 24
        }
      ]
    }
  ]
}